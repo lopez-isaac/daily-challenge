{
 "cells": [
  {
   "cell_type": "markdown",
   "metadata": {},
   "source": [
    "# Number of Steps to Reduce a Number to Zero"
   ]
  },
  {
   "cell_type": "markdown",
   "metadata": {},
   "source": [
    "Given a non-negative integer num, return the number of steps to reduce it to zero. If the current number is even, you have to divide it by 2, otherwise, you have to subtract 1 from it."
   ]
  },
  {
   "cell_type": "markdown",
   "metadata": {},
   "source": [
    "## Example"
   ]
  },
  {
   "cell_type": "code",
   "execution_count": null,
   "metadata": {},
   "outputs": [],
   "source": [
    "Input: num = 14\n",
    "Output: 6\n",
    "\n",
    "Explanation: \n",
    "Step 1) 14 is even; divide by 2 and obtain 7. \n",
    "Step 2) 7 is odd; subtract 1 and obtain 6.\n",
    "Step 3) 6 is even; divide by 2 and obtain 3. \n",
    "Step 4) 3 is odd; subtract 1 and obtain 2. \n",
    "Step 5) 2 is even; divide by 2 and obtain 1. \n",
    "Step 6) 1 is odd; subtract 1 and obtain 0."
   ]
  },
  {
   "cell_type": "markdown",
   "metadata": {},
   "source": [
    "## Answer"
   ]
  },
  {
   "cell_type": "code",
   "execution_count": 1,
   "metadata": {},
   "outputs": [],
   "source": [
    "#restrict input to int only\n",
    "def NumberOfSteps (num:int):\n",
    "        # start with zero steps\n",
    "        steps = 0\n",
    "        # while the number is not 0 loop over the following steps \n",
    "        while num != 0:\n",
    "            # % = modulos, returns the remainder\n",
    "            # if number remainder equals 0 devide by 2 and store result \n",
    "            if num % 2 == 0:\n",
    "                num = int(num/2)\n",
    "            # else subtract num by one\n",
    "            # -= is a list comprehention to num - 1 = num  \n",
    "            else:\n",
    "                num -= 1\n",
    "            # add one per while loop executed    \n",
    "            steps += 1\n",
    "        #once the while condition is false return steps\n",
    "        return steps"
   ]
  },
  {
   "cell_type": "code",
   "execution_count": 2,
   "metadata": {},
   "outputs": [
    {
     "data": {
      "text/plain": [
       "6"
      ]
     },
     "execution_count": 2,
     "metadata": {},
     "output_type": "execute_result"
    }
   ],
   "source": [
    "NumberOfSteps(14)"
   ]
  },
  {
   "cell_type": "code",
   "execution_count": 14,
   "metadata": {},
   "outputs": [],
   "source": [
    "test = [0,1,2,3,4,25,50,100,350,1250]"
   ]
  },
  {
   "cell_type": "code",
   "execution_count": 15,
   "metadata": {},
   "outputs": [
    {
     "name": "stdout",
     "output_type": "stream",
     "text": [
      "0\n",
      "1\n",
      "2\n",
      "3\n",
      "3\n",
      "7\n",
      "8\n",
      "9\n",
      "14\n",
      "15\n"
     ]
    }
   ],
   "source": [
    "for num in test:\n",
    "    res = NumberOfSteps(num)\n",
    "    print(res)\n",
    "    "
   ]
  },
  {
   "cell_type": "code",
   "execution_count": null,
   "metadata": {},
   "outputs": [],
   "source": []
  }
 ],
 "metadata": {
  "kernelspec": {
   "display_name": "Python 3",
   "language": "python",
   "name": "python3"
  },
  "language_info": {
   "codemirror_mode": {
    "name": "ipython",
    "version": 3
   },
   "file_extension": ".py",
   "mimetype": "text/x-python",
   "name": "python",
   "nbconvert_exporter": "python",
   "pygments_lexer": "ipython3",
   "version": "3.7.4"
  }
 },
 "nbformat": 4,
 "nbformat_minor": 4
}
